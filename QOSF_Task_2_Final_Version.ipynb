{
  "nbformat": 4,
  "nbformat_minor": 0,
  "metadata": {
    "colab": {
      "name": "Copy of QOSF Task #2 Final Version",
      "provenance": [],
      "collapsed_sections": [],
      "authorship_tag": "ABX9TyO/ARQONeQm0Etvg7wUT7Hg",
      "include_colab_link": true
    },
    "kernelspec": {
      "name": "python3",
      "display_name": "Python 3"
    }
  },
  "cells": [
    {
      "cell_type": "markdown",
      "metadata": {
        "id": "view-in-github",
        "colab_type": "text"
      },
      "source": [
        "<a href=\"https://colab.research.google.com/github/HeTalksInMaths/QOSF/blob/master/QOSF_Task_2_Final_Version.ipynb\" target=\"_parent\"><img src=\"https://colab.research.google.com/assets/colab-badge.svg\" alt=\"Open In Colab\"/></a>"
      ]
    },
    {
      "cell_type": "markdown",
      "metadata": {
        "id": "obM_dVEkChnl"
      },
      "source": [
        "We make use of the pennylane framework for our task to learn parametrs in our quantum circuit to produce 01 and 10 with 1/2 probability each."
      ]
    },
    {
      "cell_type": "code",
      "metadata": {
        "id": "GB1qAd0kjFLg",
        "outputId": "7936b7ef-8c54-4570-9bab-432c835e5196",
        "colab": {
          "base_uri": "https://localhost:8080/",
          "height": 185
        }
      },
      "source": [
        "#!pip install pennylane   # uncomment first hash for installation on Colab. Restart runtime after installation.\n",
        "import pennylane as qml\n",
        "from pennylane import numpy as np"
      ],
      "execution_count": 1,
      "outputs": [
        {
          "output_type": "stream",
          "text": [
            "Requirement already satisfied: pennylane in /usr/local/lib/python3.6/dist-packages (0.11.0)\n",
            "Requirement already satisfied: autograd in /usr/local/lib/python3.6/dist-packages (from pennylane) (1.3)\n",
            "Requirement already satisfied: toml in /usr/local/lib/python3.6/dist-packages (from pennylane) (0.10.1)\n",
            "Requirement already satisfied: numpy in /usr/local/lib/python3.6/dist-packages (from pennylane) (1.18.5)\n",
            "Requirement already satisfied: appdirs in /usr/local/lib/python3.6/dist-packages (from pennylane) (1.4.4)\n",
            "Requirement already satisfied: scipy in /usr/local/lib/python3.6/dist-packages (from pennylane) (1.4.1)\n",
            "Requirement already satisfied: semantic-version==2.6 in /usr/local/lib/python3.6/dist-packages (from pennylane) (2.6.0)\n",
            "Requirement already satisfied: networkx in /usr/local/lib/python3.6/dist-packages (from pennylane) (2.5)\n",
            "Requirement already satisfied: future>=0.15.2 in /usr/local/lib/python3.6/dist-packages (from autograd->pennylane) (0.16.0)\n",
            "Requirement already satisfied: decorator>=4.3.0 in /usr/local/lib/python3.6/dist-packages (from networkx->pennylane) (4.4.2)\n"
          ],
          "name": "stdout"
        }
      ]
    },
    {
      "cell_type": "markdown",
      "metadata": {
        "id": "XEi0dqJ3_1SB"
      },
      "source": [
        "We set the analytic parameter in our device initialization to False to introduce stochastisity in our measurements and later make use of dev.shots to adjust the number of measurements.\n"
      ]
    },
    {
      "cell_type": "code",
      "metadata": {
        "id": "htAPY1qMt1vN"
      },
      "source": [
        "dev = qml.device(\"default.qubit\", wires=2, analytic = False)"
      ],
      "execution_count": 83,
      "outputs": []
    },
    {
      "cell_type": "markdown",
      "metadata": {
        "id": "lcf7UMVpATpR"
      },
      "source": [
        "Let us start with a simple structure where we have expected results so that the focus is on developing intutition in the parameter learning. With two RY gates (with both qubits inititalized as 0) and a subsequent CNOT between the wires one expected result would be for the parameters to equal [pi/2, pi]. \n",
        "\n",
        "\n",
        "RY(pi/2) sends the first qubit from 0 to + (as is usually prescribed for creating a Bell State before application of the CNOT gate) and RY(pi) send the second qubit from 0 to 1. The subsequent CNOT then results in mismatched qubit values. Here this is no relative phase but different parameters may result in relative phase even though the same theoretical probability distributed will be generated.  "
      ]
    },
    {
      "cell_type": "code",
      "metadata": {
        "id": "winRkmoJt6QV"
      },
      "source": [
        "@qml.qnode(dev)\n",
        "def circuit(params):\n",
        "  qml.RY(params[0], wires=0)\n",
        "  qml.RY(params[1], wires=1)\n",
        "  qml.CNOT(wires=[0,1])\n",
        "  return qml.probs(wires=[0,1])"
      ],
      "execution_count": 84,
      "outputs": []
    },
    {
      "cell_type": "markdown",
      "metadata": {
        "id": "A74J7sAye0ZK"
      },
      "source": [
        "We set the seed for reprodcubility and test our prior intution regarding the parameters with a large sample size (to get close to the theoeretical limit).\n",
        "\n",
        "We also draw the circuit for clarity."
      ]
    },
    {
      "cell_type": "code",
      "metadata": {
        "id": "m-acNU-ZepQR",
        "outputId": "f24858ec-3cba-42e7-9bf4-03c3d9dd81ce",
        "colab": {
          "base_uri": "https://localhost:8080/",
          "height": 34
        }
      },
      "source": [
        "np.random.seed(0)\n",
        "dev.shots = 10**6\n",
        "circuit([np.pi/2, np.pi])"
      ],
      "execution_count": 85,
      "outputs": [
        {
          "output_type": "execute_result",
          "data": {
            "text/plain": [
              "array([0.      , 0.499195, 0.500805, 0.      ])"
            ]
          },
          "metadata": {
            "tags": []
          },
          "execution_count": 85
        }
      ]
    },
    {
      "cell_type": "code",
      "metadata": {
        "id": "i03z5eMGqV2V",
        "outputId": "c78678e6-7d37-4e4c-cb95-a561ec5e29c8",
        "colab": {
          "base_uri": "https://localhost:8080/",
          "height": 67
        }
      },
      "source": [
        "print(circuit.draw())"
      ],
      "execution_count": 86,
      "outputs": [
        {
          "output_type": "stream",
          "text": [
            " 0: ──RY(1.571)──╭C──╭┤ Probs \n",
            " 1: ──RY(3.142)──╰X──╰┤ Probs \n",
            "\n"
          ],
          "name": "stdout"
        }
      ]
    },
    {
      "cell_type": "markdown",
      "metadata": {
        "id": "ffUS0Fpkfu09"
      },
      "source": [
        "Our intuition is correct and with the parameters [pi, pi/2] we are very close (but not identical due to sampling and stochasticity) to 0.5 probability for the 01 and 10 states. \n",
        "\n",
        "Note the probabilities are given to 6 decimals due to dev.shots = 10**6. We use qml.probs instead of qml.sample to save on some data processing but show below how qm.probs is noisy and is given to accuracy given by the number of samples set by dev.shots."
      ]
    },
    {
      "cell_type": "code",
      "metadata": {
        "id": "mq_Qe8EwuOWv",
        "outputId": "abb06568-7fcf-4c22-ba90-ecec76dbe663",
        "colab": {
          "base_uri": "https://localhost:8080/",
          "height": 151
        }
      },
      "source": [
        "for i in [1, 10, 100, 1000]:\n",
        "  dev.shots = i\n",
        "  for j in [0,2]:\n",
        "    np.random.seed(j)\n",
        "    print(\"For {} samples with seed {}, probs = {}\".format(i, j, circuit([np.pi/2, np.pi])))"
      ],
      "execution_count": 87,
      "outputs": [
        {
          "output_type": "stream",
          "text": [
            "For 1 samples with seed 0, probs = [0. 0. 1. 0.]\n",
            "For 1 samples with seed 2, probs = [0. 1. 0. 0.]\n",
            "For 10 samples with seed 0, probs = [0.  0.3 0.7 0. ]\n",
            "For 10 samples with seed 2, probs = [0.  0.8 0.2 0. ]\n",
            "For 100 samples with seed 0, probs = [0.   0.51 0.49 0.  ]\n",
            "For 100 samples with seed 2, probs = [0.   0.56 0.44 0.  ]\n",
            "For 1000 samples with seed 0, probs = [0.    0.517 0.483 0.   ]\n",
            "For 1000 samples with seed 2, probs = [0.    0.534 0.466 0.   ]\n"
          ],
          "name": "stdout"
        }
      ]
    },
    {
      "cell_type": "markdown",
      "metadata": {
        "id": "C4rThKLdiPFZ"
      },
      "source": [
        "Next we define our cost function for learning by setting the desired probability array [0, 0.5, 0.5, 0] as our target and use squre loss."
      ]
    },
    {
      "cell_type": "code",
      "metadata": {
        "id": "t8hCVW7zvBmY"
      },
      "source": [
        "def cost(x):\n",
        "\n",
        "  return sum((np.array([0, 0.5, 0.5, 0]) - np.array(circuit(x)))**2)"
      ],
      "execution_count": 88,
      "outputs": []
    },
    {
      "cell_type": "markdown",
      "metadata": {
        "id": "VVAzvXAqN4MD"
      },
      "source": [
        "Before attempting to find the parameters with only one sample per iteration we can use some intution to consider potential pitfalls. After each measurement, the cost is bounded below by 0.5. As a result we need a small stepsize or update our stepsize to decrease. We do the latter as our initialized [0,0] paramaters produce [1, 0, 0, 0] which is far from our desired result. Our optimizer is gradient descent."
      ]
    },
    {
      "cell_type": "code",
      "metadata": {
        "id": "LyNsWx2Dg32Y",
        "outputId": "889ea73c-9308-409f-ad61-31f831819053",
        "colab": {
          "base_uri": "https://localhost:8080/",
          "height": 370
        }
      },
      "source": [
        "# initialise the optimizer with stepsize\n",
        "opt = qml.GradientDescentOptimizer(1)\n",
        "\n",
        "# set the number of samples\n",
        "dev.shots = 1\n",
        "\n",
        "# set the number of steps\n",
        "steps = 5000\n",
        "\n",
        "# set seed for reproducibility \n",
        "np.random.seed(0)\n",
        "\n",
        "# initialize the parameter to [0,0]\n",
        "init_params = np.array([0,0])\n",
        "params = init_params\n",
        "\n",
        "for i in range(steps):\n",
        "# update the circuit parameters after each step relative to cost & params\n",
        "  params = opt.step(cost, params)\n",
        "\n",
        "  if i > 100:\n",
        "    opt.update_stepsize(0.001)\n",
        "    \n",
        "  elif i > 10:\n",
        "    opt.update_stepsize(0.1)\n",
        "\n",
        "  if (i+1) % 500 == 0:\n",
        "    print(\"Cost after step {:5d}: {: .7f}\".format(i + 1, cost(params)))\n",
        "    print(\"Current rotation angles: {}\".format(params))\n",
        "\n",
        "print(\"Optimized rotation angles: {}\".format(params))"
      ],
      "execution_count": 90,
      "outputs": [
        {
          "output_type": "stream",
          "text": [
            "Cost after step   500:  0.5000000\n",
            "Current rotation angles: [-1.803   3.1605]\n",
            "Cost after step  1000:  0.5000000\n",
            "Current rotation angles: [-1.7235  3.1505]\n",
            "Cost after step  1500:  0.5000000\n",
            "Current rotation angles: [-1.6665  3.1395]\n",
            "Cost after step  2000:  0.5000000\n",
            "Current rotation angles: [-1.6105  3.122 ]\n",
            "Cost after step  2500:  0.5000000\n",
            "Current rotation angles: [-1.6425  3.1375]\n",
            "Cost after step  3000:  0.5000000\n",
            "Current rotation angles: [-1.6405  3.127 ]\n",
            "Cost after step  3500:  0.5000000\n",
            "Current rotation angles: [-1.6105  3.1345]\n",
            "Cost after step  4000:  0.5000000\n",
            "Current rotation angles: [-1.5845  3.1365]\n",
            "Cost after step  4500:  0.5000000\n",
            "Current rotation angles: [-1.5765  3.147 ]\n",
            "Cost after step  5000:  0.5000000\n",
            "Current rotation angles: [-1.5785  3.144 ]\n",
            "Optimized rotation angles: [-1.5785  3.144 ]\n"
          ],
          "name": "stdout"
        }
      ]
    },
    {
      "cell_type": "markdown",
      "metadata": {
        "id": "mFL_BeqGsCdA"
      },
      "source": [
        "Let us now see how good the resulting parameters are is if we had a large number of samples."
      ]
    },
    {
      "cell_type": "code",
      "metadata": {
        "id": "03I2vOubsBuD",
        "outputId": "01bc2f81-b0b6-4d9b-8d1d-6183f7c1932c",
        "colab": {
          "base_uri": "https://localhost:8080/",
          "height": 34
        }
      },
      "source": [
        "params1 = params\n",
        "\n",
        "dev.shots = 10**6\n",
        "np.random.seed(0)\n",
        "circuit(params1)"
      ],
      "execution_count": 91,
      "outputs": [
        {
          "output_type": "execute_result",
          "data": {
            "text/plain": [
              "array([1.00000e-06, 4.95431e-01, 5.04567e-01, 1.00000e-06])"
            ]
          },
          "metadata": {
            "tags": []
          },
          "execution_count": 91
        }
      ]
    },
    {
      "cell_type": "markdown",
      "metadata": {
        "id": "YMNHsCpOsiRW"
      },
      "source": [
        "We instantiate a second device for theoretical results with the given parameters (by not setting the analytic argument to False)."
      ]
    },
    {
      "cell_type": "code",
      "metadata": {
        "id": "2UyykXbZsSY2"
      },
      "source": [
        "dev2 = qml.device(\"default.qubit\", wires=2)\n",
        "\n",
        "@qml.qnode(dev2)\n",
        "def circuit2(params):\n",
        "  qml.RY(params[0], wires=0)\n",
        "  qml.RY(params[1], wires=1)\n",
        "  qml.CNOT(wires=[0,1])\n",
        "  return qml.probs(wires=[0,1])"
      ],
      "execution_count": 92,
      "outputs": []
    },
    {
      "cell_type": "code",
      "metadata": {
        "id": "GjdaeCoIzuVN",
        "outputId": "a1c4d41f-18fe-4962-8d84-3c1e0d82a89d",
        "colab": {
          "base_uri": "https://localhost:8080/",
          "height": 34
        }
      },
      "source": [
        "circuit2(params1)"
      ],
      "execution_count": 93,
      "outputs": [
        {
          "output_type": "execute_result",
          "data": {
            "text/plain": [
              "array([7.18833647e-07, 4.96147483e-01, 5.03851069e-01, 7.29994838e-07])"
            ]
          },
          "metadata": {
            "tags": []
          },
          "execution_count": 93
        }
      ]
    },
    {
      "cell_type": "markdown",
      "metadata": {
        "id": "hG0mcl6khFzr"
      },
      "source": [
        "In both the noisy simulator with large samples and the theoretical circuit we achieve results very close to [0, 0.5, 0.5, 0]. Our parameters are very close to [-pi/2, pi] as expected except with relative phase.\n",
        "\n",
        "That being said this required some careful calibration with the stepsize for the optimizer. A large stepsize would have been very noisy due to cost being bounded below by 0.5 and a small stepsize would have taken many more iterations.\n",
        "\n",
        "Note that even though the second parameter converged to pi quickly and it may appear that fewer iterations for learning may be needed, the first parameter continues to move towards -pi/2 after being at -1.8 after 500 steps. \n",
        "\n",
        "We tried the same stepsize update procedure for other seeds (to make sure we weren't overfitting to the data in this seed) and produced results that were also close to [0, 0.5, 0.5, 0]."
      ]
    },
    {
      "cell_type": "code",
      "metadata": {
        "id": "Z9KuHFpurLTn",
        "outputId": "4a7bf831-ce4d-4589-8a47-e8898de07555",
        "colab": {
          "base_uri": "https://localhost:8080/",
          "height": 34
        }
      },
      "source": [
        "dev2.state"
      ],
      "execution_count": 57,
      "outputs": [
        {
          "output_type": "execute_result",
          "data": {
            "text/plain": [
              "array([-0.00084784+0.j,  0.70437737+0.j, -0.70982467+0.j,  0.0008544 +0.j])"
            ]
          },
          "metadata": {
            "tags": []
          },
          "execution_count": 57
        }
      ]
    },
    {
      "cell_type": "markdown",
      "metadata": {
        "id": "vRj8IOhLrfVO"
      },
      "source": [
        "The absolute value of the coefficients are close to 1/sqrt(2) but we have 01 - 10 (relative phase pi)."
      ]
    },
    {
      "cell_type": "markdown",
      "metadata": {
        "id": "HbkQp51qrRL_"
      },
      "source": [
        "Next lets try 10 samples per iteration. The loss is no longer bounded below by 0.5 so we can have smaller updates to our parameters without a very small stepsize. The lowest non-zero cost is now 0.02. We may repeatedly achieve zero cost in optimization due to the large noise for 10 samples but the parameters in these instances may still be far from what we are looking for."
      ]
    },
    {
      "cell_type": "code",
      "metadata": {
        "id": "rOpBhtfqLEyj",
        "outputId": "69c58a08-623a-488b-a6e1-ac9bbb71cd50",
        "colab": {
          "base_uri": "https://localhost:8080/",
          "height": 370
        }
      },
      "source": [
        "# initialise the optimizer with stepsize\n",
        "opt = qml.GradientDescentOptimizer(0.02)\n",
        "\n",
        "# set the number of samples\n",
        "dev.shots = 10\n",
        "\n",
        "# set the number of steps\n",
        "steps = 2000\n",
        "\n",
        "# set seed for reproducibility \n",
        "np.random.seed(0)\n",
        "\n",
        "# initialize the parameter to [0,0]\n",
        "init_params = np.array([0,0])\n",
        "params = init_params\n",
        "\n",
        "for i in range(steps):\n",
        "# update the circuit parameters after each step relative to cost & params\n",
        "  params = opt.step(cost, params)\n",
        "\n",
        "  if (i+1) % 200 == 0:\n",
        "    print(\"Cost after step {:5d}: {: .7f}\".format(i + 1, cost(params)))\n",
        "    print(\"Current rotation angles: {}\".format(params))\n",
        " \n",
        "print(\"Optimized rotation angles: {}\".format(params))"
      ],
      "execution_count": 181,
      "outputs": [
        {
          "output_type": "stream",
          "text": [
            "Cost after step   200:  0.9400000\n",
            "Current rotation angles: [-1.1212  0.9784]\n",
            "Cost after step   400:  0.0800000\n",
            "Current rotation angles: [-1.5196  2.3592]\n",
            "Cost after step   600:  0.0200000\n",
            "Current rotation angles: [-1.5474  2.596 ]\n",
            "Cost after step   800:  0.1400000\n",
            "Current rotation angles: [-1.5766  2.6972]\n",
            "Cost after step  1000:  0.0600000\n",
            "Current rotation angles: [-1.5376  2.7568]\n",
            "Cost after step  1200:  0.0200000\n",
            "Current rotation angles: [-1.544  2.808]\n",
            "Cost after step  1400:  0.0600000\n",
            "Current rotation angles: [-1.5914  2.8238]\n",
            "Cost after step  1600:  0.0200000\n",
            "Current rotation angles: [-1.5818  2.8454]\n",
            "Cost after step  1800:  0.0200000\n",
            "Current rotation angles: [-1.5922  2.86  ]\n",
            "Cost after step  2000:  0.1800000\n",
            "Current rotation angles: [-1.5472  2.8906]\n",
            "Optimized rotation angles: [-1.5472  2.8906]\n"
          ],
          "name": "stdout"
        }
      ]
    },
    {
      "cell_type": "markdown",
      "metadata": {
        "id": "DNHVigLsRpvS"
      },
      "source": [
        "These results initially don't look as good as the 1 sample per iteration case but by using a single stepsize during the whole optimization we are less prone to overfit the samples in our particular seed. \n",
        "\n",
        "We are also using less iterations (2000 versus 5000 previously)."
      ]
    },
    {
      "cell_type": "code",
      "metadata": {
        "id": "fHTcFMIR6III",
        "outputId": "a531e98f-d0d4-4695-80e0-38c4b2494b32",
        "colab": {
          "base_uri": "https://localhost:8080/",
          "height": 34
        }
      },
      "source": [
        "params10 = params\n",
        "\n",
        "dev.shots = 10**6\n",
        "np.random.seed(0)\n",
        "circuit(params10)"
      ],
      "execution_count": 182,
      "outputs": [
        {
          "output_type": "execute_result",
          "data": {
            "text/plain": [
              "array([0.008002, 0.502982, 0.481343, 0.007673])"
            ]
          },
          "metadata": {
            "tags": []
          },
          "execution_count": 182
        }
      ]
    },
    {
      "cell_type": "code",
      "metadata": {
        "id": "eeRaR-dB6mcK",
        "outputId": "e5810b24-cb8d-43dc-d63e-c2dc7981291b",
        "colab": {
          "base_uri": "https://localhost:8080/",
          "height": 34
        }
      },
      "source": [
        "circuit2(params10)"
      ],
      "execution_count": 183,
      "outputs": [
        {
          "output_type": "execute_result",
          "data": {
            "text/plain": [
              "array([0.00801823, 0.50377884, 0.48055434, 0.00764859])"
            ]
          },
          "metadata": {
            "tags": []
          },
          "execution_count": 183
        }
      ]
    },
    {
      "cell_type": "code",
      "metadata": {
        "id": "l8sLxE2u62n5",
        "outputId": "364f77e2-6511-4c4e-c3ba-dc0bb5704b28",
        "colab": {
          "base_uri": "https://localhost:8080/",
          "height": 34
        }
      },
      "source": [
        "dev2.state"
      ],
      "execution_count": 184,
      "outputs": [
        {
          "output_type": "execute_result",
          "data": {
            "text/plain": [
              "array([ 0.08954459+0.j,  0.70977379+0.j, -0.69322027+0.j, -0.08745621+0.j])"
            ]
          },
          "metadata": {
            "tags": []
          },
          "execution_count": 184
        }
      ]
    },
    {
      "cell_type": "markdown",
      "metadata": {
        "id": "1_zvu20T6-C1"
      },
      "source": [
        "As expected the results are a little worse than with params1 (found using one sample per iteration). We were able to create an update stepsize procedure to get even better results than params1 but weren't replicating the results with other seeds and so were likely overfitting the samples in our seed. \n",
        "\n",
        "With further iterations the probabilities for the states 00 and 11 continued to converge to zero as desired but the single stepsize of 0.02 was large enough that the 01 and 10 probabilities were too noisy to see much improvement. \n",
        "\n",
        "We highlight this by re-running our code with a print(circuit2(params)) statement to show how the theoretical probabilities of the 00 and 11 decrease with more iterations (and will continue to do so to build intution in the 100 and 1000 sample cases). Note the learning still comes from our noisy simulator - using the theoretical probabilities is purely for our understanding as the \n",
        "cost function is highly susceptible to noise and as a result we can't infer improvements from it."
      ]
    },
    {
      "cell_type": "code",
      "metadata": {
        "id": "qHRmoq2gYujs",
        "outputId": "387844dd-6c36-48d1-fee0-3c55dc20dd82",
        "colab": {
          "base_uri": "https://localhost:8080/",
          "height": 538
        }
      },
      "source": [
        "# initialise the optimizer with stepsize\n",
        "opt = qml.GradientDescentOptimizer(0.02)\n",
        "\n",
        "# set the number of samples\n",
        "dev.shots = 10\n",
        "\n",
        "# set the number of steps\n",
        "steps = 2000\n",
        "\n",
        "# set seed for reproducibility \n",
        "np.random.seed(0)\n",
        "\n",
        "# initialize the parameter to [0,0]\n",
        "init_params = np.array([0,0])\n",
        "params = init_params\n",
        "\n",
        "for i in range(steps):\n",
        "# update the circuit parameters after each step relative to cost & params\n",
        "  params = opt.step(cost, params)\n",
        "  \n",
        "  if (i+1) % 200 == 0:\n",
        "    print(\"Cost after step {:5d}: {: .7f}\".format(i + 1, cost(params)))\n",
        "    print(\"Current rotation angles: {}\".format(params))\n",
        "    print(circuit2(params))\n",
        "\n",
        "print(\"Optimized rotation angles: {}\".format(params))"
      ],
      "execution_count": 228,
      "outputs": [
        {
          "output_type": "stream",
          "text": [
            "Cost after step   200:  0.9400000\n",
            "Current rotation angles: [-1.1212  0.9784]\n",
            "[0.55890324 0.15839777 0.06242692 0.22027208]\n",
            "Cost after step   400:  0.0800000\n",
            "Current rotation angles: [-1.5196  2.3592]\n",
            "[0.07641278 0.4491742  0.4054402  0.06897282]\n",
            "Cost after step   600:  0.0200000\n",
            "Current rotation angles: [-1.5474  2.596 ]\n",
            "[0.03714412 0.47455298 0.45285697 0.03544593]\n",
            "Cost after step   800:  0.1400000\n",
            "Current rotation angles: [-1.5766  2.6972]\n",
            "[0.02414109 0.47295709 0.47847888 0.02442294]\n",
            "Cost after step  1000:  0.0600000\n",
            "Current rotation angles: [-1.5376  2.7568]\n",
            "[0.01888768 0.49770744 0.4657307  0.01767418]\n",
            "Cost after step  1200:  0.0200000\n",
            "Current rotation angles: [-1.544  2.808]\n",
            "[0.01415125 0.49924531 0.47319072 0.01341272]\n",
            "Cost after step  1400:  0.0600000\n",
            "Current rotation angles: [-1.5914  2.8238]\n",
            "[0.01226023 0.47743866 0.49752507 0.01277604]\n",
            "Cost after step  1600:  0.0200000\n",
            "Current rotation angles: [-1.5818  2.8454]\n",
            "[0.01076654 0.48373174 0.49449562 0.01100611]\n",
            "Cost after step  1800:  0.0200000\n",
            "Current rotation angles: [-1.5922  2.86  ]\n",
            "[0.00963575 0.47966324 0.5006438  0.01005721]\n",
            "Cost after step  2000:  0.1800000\n",
            "Current rotation angles: [-1.5472  2.8906]\n",
            "[0.00801823 0.50377884 0.48055434 0.00764859]\n",
            "Optimized rotation angles: [-1.5472  2.8906]\n"
          ],
          "name": "stdout"
        }
      ]
    },
    {
      "cell_type": "markdown",
      "metadata": {
        "id": "X2_1r_93Z9eh"
      },
      "source": [
        "Ultimately trying a smaller initial stepsize with many many more iterations should produce more desirable results. Finding params1 with an unchagned stepsize through the optimization process and comparing the need number of iterations for a desired result would also be interesting.\n",
        "\n",
        "We hope to return to these if time permits but leave the above portions unchanged to illustrate our learning journey through this process."
      ]
    },
    {
      "cell_type": "markdown",
      "metadata": {
        "id": "-GIuiM8lV-Kd"
      },
      "source": [
        "Next is 100 samples per iteration where the cost function can be significantly smaller than before when non-zero to aid in learning."
      ]
    },
    {
      "cell_type": "code",
      "metadata": {
        "id": "zLAezWypCKY5",
        "outputId": "34088718-72c3-4e75-9a9f-caa96527e9d5",
        "colab": {
          "base_uri": "https://localhost:8080/",
          "height": 1000
        }
      },
      "source": [
        "# initialise the optimizer with stepsize\n",
        "opt = qml.GradientDescentOptimizer(0.015)\n",
        "\n",
        "# set the number of samples\n",
        "dev.shots = 100\n",
        "\n",
        "# set the number of steps\n",
        "steps = 50000\n",
        "\n",
        "# set seed for reproducibility \n",
        "np.random.seed(0)\n",
        "\n",
        "# initialize the parameter to [0,0]\n",
        "init_params = np.array([0,0])\n",
        "params = init_params\n",
        "\n",
        "for i in range(steps):\n",
        "# update the circuit parameters after each step relative to cost & params\n",
        "  params = opt.step(cost, params)\n",
        "\n",
        "  if (i+1) % 2000 == 0:\n",
        "    print(\"Cost after step {:5d}: {: .7f}\".format(i + 1, cost(params)))\n",
        "    print(\"Current rotation angles: {}\".format(params))\n",
        "    print(circuit2(params))\n",
        "\n",
        "print(\"Optimized rotation angles: {}\".format(params))"
      ],
      "execution_count": 242,
      "outputs": [
        {
          "output_type": "stream",
          "text": [
            "Cost after step  2000:  0.0098000\n",
            "Current rotation angles: [1.5664755 2.8313925]\n",
            "[0.01198343 0.49017697 0.48595927 0.01188032]\n",
            "Cost after step  4000:  0.0000000\n",
            "Current rotation angles: [1.556274  2.9381745]\n",
            "[0.00522941 0.5020315  0.48765939 0.0050797 ]\n",
            "Cost after step  6000:  0.0002000\n",
            "Current rotation angles: [1.5743025 2.983416 ]\n",
            "[0.00311002 0.49513689 0.49862117 0.00313191]\n",
            "Cost after step  8000:  0.0018000\n",
            "Current rotation angles: [1.5737505 3.006891 ]\n",
            "[0.00225795 0.49626497 0.49920575 0.00227133]\n",
            "Cost after step 10000:  0.0162000\n",
            "Current rotation angles: [1.5577485 3.01899  ]\n",
            "[0.00190106 0.50462267 0.49162418 0.00185209]\n",
            "Cost after step 12000:  0.0008000\n",
            "Current rotation angles: [1.575729 3.031392]\n",
            "[0.00150901 0.49602467 0.50094236 0.00152397]\n",
            "Cost after step 14000:  0.0032000\n",
            "Current rotation angles: [1.567626 3.043533]\n",
            "[0.00120481 0.50038035 0.49721765 0.00119719]\n",
            "Cost after step 16000:  0.0018000\n",
            "Current rotation angles: [1.5599625 3.051444 ]\n",
            "[0.00102616 0.50439065 0.49357903 0.00100416]\n",
            "Cost after step 18000:  0.0050000\n",
            "Current rotation angles: [1.564875 3.053313]\n",
            "[0.00097929 0.50198135 0.49607159 0.00096777]\n",
            "Cost after step 20000:  0.0128000\n",
            "Current rotation angles: [1.569168 3.055911]\n",
            "[0.0009186  0.49989556 0.49827022 0.00091561]\n",
            "Cost after step 22000:  0.0032000\n",
            "Current rotation angles: [1.5781065 3.0650685]\n",
            "[0.00072629 0.49561866 0.50291807 0.00073698]\n",
            "Cost after step 24000:  0.0008000\n",
            "Current rotation angles: [1.548387 3.067638]\n",
            "[0.00069866 0.51050506 0.48812824 0.00066804]\n",
            "Cost after step 26000:  0.0098000\n",
            "Current rotation angles: [1.5638445 3.0682845]\n",
            "[0.00067613 0.50279976 0.49585732 0.00066679]\n",
            "Cost after step 28000:  0.0200000\n",
            "Current rotation angles: [1.5649665 3.06891  ]\n",
            "[0.0006639  0.50225099 0.4964289  0.00065621]\n",
            "Cost after step 30000:  0.0050000\n",
            "Current rotation angles: [1.573875 3.073581]\n",
            "[0.0005762  0.49788447 0.50095958 0.00057975]\n",
            "Cost after step 32000:  0.0050000\n",
            "Current rotation angles: [1.572834 3.07503 ]\n",
            "[0.00055249 0.49842867 0.50046409 0.00055475]\n",
            "Cost after step 34000:  0.0000000\n",
            "Current rotation angles: [1.587588  3.0717225]\n",
            "[0.00059974 0.49100482 0.50777522 0.00062022]\n",
            "Cost after step 36000:  0.0242000\n",
            "Current rotation angles: [1.574775  3.0753765]\n",
            "[0.00054569 0.49746498 0.50143928 0.00055005]\n",
            "Cost after step 38000:  0.0008000\n",
            "Current rotation angles: [1.5645015 3.0736695]\n",
            "[0.0005801  0.50256729 0.49627976 0.00057284]\n",
            "Cost after step 40000:  0.0000000\n",
            "Current rotation angles: [1.586247  3.0772485]\n",
            "[0.00050935 0.49176562 0.50719969 0.00052534]\n",
            "Cost after step 42000:  0.0008000\n",
            "Current rotation angles: [1.5682095 3.0797745]\n",
            "[4.78768706e-04 5.00814643e-01 4.98230290e-01 4.76298116e-04]\n",
            "Cost after step 44000:  0.0026000\n",
            "Current rotation angles: [1.5763335 3.079548 ]\n",
            "[4.78374458e-04 4.96753053e-01 5.02284871e-01 4.83701613e-04]\n",
            "Cost after step 46000:  0.0200000\n",
            "Current rotation angles: [1.563171 3.082692]\n",
            "[4.36841332e-04 5.03375785e-01 4.95757144e-01 4.30229696e-04]\n",
            "Cost after step 48000:  0.0002000\n",
            "Current rotation angles: [1.5845805 3.089787 ]\n",
            "[3.30780085e-04 4.92777352e-01 5.06551842e-01 3.40026304e-04]\n",
            "Cost after step 50000:  0.0098000\n",
            "Current rotation angles: [1.567362  3.0892515]\n",
            "[3.43547184e-04 5.01373613e-01 4.97941644e-01 3.41195558e-04]\n",
            "Optimized rotation angles: [1.567362  3.0892515]\n"
          ],
          "name": "stdout"
        }
      ]
    },
    {
      "cell_type": "code",
      "metadata": {
        "id": "QFZIDWX3AJKY",
        "outputId": "0191ca66-9cb1-4a49-83e1-a89b985ca2d7",
        "colab": {
          "base_uri": "https://localhost:8080/",
          "height": 34
        }
      },
      "source": [
        "params100 = params\n",
        "\n",
        "dev.shots = 10**6\n",
        "np.random.seed(0)\n",
        "circuit(params100)"
      ],
      "execution_count": 244,
      "outputs": [
        {
          "output_type": "execute_result",
          "data": {
            "text/plain": [
              "array([3.27000e-04, 5.00552e-01, 4.98759e-01, 3.62000e-04])"
            ]
          },
          "metadata": {
            "tags": []
          },
          "execution_count": 244
        }
      ]
    },
    {
      "cell_type": "code",
      "metadata": {
        "id": "t6WTQWAsAfdD",
        "outputId": "19fd1ff7-193d-494e-f8a1-4c9778b5617e",
        "colab": {
          "base_uri": "https://localhost:8080/",
          "height": 34
        }
      },
      "source": [
        "circuit2(params100)"
      ],
      "execution_count": 245,
      "outputs": [
        {
          "output_type": "execute_result",
          "data": {
            "text/plain": [
              "array([3.43547184e-04, 5.01373613e-01, 4.97941644e-01, 3.41195558e-04])"
            ]
          },
          "metadata": {
            "tags": []
          },
          "execution_count": 245
        }
      ]
    },
    {
      "cell_type": "code",
      "metadata": {
        "id": "1c4P1hV2Af1Y",
        "outputId": "16523282-7697-4c44-c886-041b22929b40",
        "colab": {
          "base_uri": "https://localhost:8080/",
          "height": 34
        }
      },
      "source": [
        "dev2.state"
      ],
      "execution_count": 246,
      "outputs": [
        {
          "output_type": "execute_result",
          "data": {
            "text/plain": [
              "array([0.01853503+0.j, 0.70807741+0.j, 0.7056498 +0.j, 0.01847148+0.j])"
            ]
          },
          "metadata": {
            "tags": []
          },
          "execution_count": 246
        }
      ]
    },
    {
      "cell_type": "markdown",
      "metadata": {
        "id": "DClk1RuXEWVT"
      },
      "source": [
        "The results are good and the 01 and 10 probabilities seem to stably hover around 0.5 during the end stages of optimization."
      ]
    },
    {
      "cell_type": "markdown",
      "metadata": {
        "id": "5YtZkCkwsq0k"
      },
      "source": [
        "With 1000 samples per iteration we should have the least noisy probability measurements and the lowest non-zero cost to aid in learning. As a result we can use a slightly larger step size and fewer iterations and still achieve very good results. \n",
        "\n"
      ]
    },
    {
      "cell_type": "code",
      "metadata": {
        "id": "1Upx8t0z2EX9",
        "outputId": "4f4dd2d2-b70b-40fb-c3ee-d40da81ba159",
        "colab": {
          "base_uri": "https://localhost:8080/",
          "height": 1000
        }
      },
      "source": [
        "# initialise the optimizer with stepsize\n",
        "opt = qml.GradientDescentOptimizer(0.02)\n",
        "\n",
        "# set the number of samples\n",
        "dev.shots = 1000\n",
        "\n",
        "# set the number of steps\n",
        "steps = 40000\n",
        "\n",
        "# set seed for reproducibility \n",
        "np.random.seed(0)\n",
        "\n",
        "# initialize the parameter to [0,0]\n",
        "init_params = np.array([0,0])\n",
        "params = init_params\n",
        "\n",
        "for i in range(steps):\n",
        "# update the circuit parameters after each step relative to cost & params\n",
        "  params = opt.step(cost, params)\n",
        "\n",
        "  if (i+1) % 2000 == 0:\n",
        "    print(\"Cost after step {:5d}: {: .7f}\".format(i + 1, cost(params)))\n",
        "    print(\"Current rotation angles: {}\".format(params))\n",
        "    print(circuit2(params))\n",
        "\n",
        "print(\"Optimized rotation angles: {}\".format(params))"
      ],
      "execution_count": 223,
      "outputs": [
        {
          "output_type": "stream",
          "text": [
            "Cost after step  2000:  0.0009900\n",
            "Current rotation angles: [ 1.5697238  -2.89160592]\n",
            "[0.00777941 0.49275685 0.491701   0.00776274]\n",
            "Cost after step  4000:  0.0001220\n",
            "Current rotation angles: [ 1.5735341 -2.9745905]\n",
            "[0.0034686  0.49516252 0.49788124 0.00348764]\n",
            "Cost after step  6000:  0.0007700\n",
            "Current rotation angles: [ 1.57647704 -3.00687274]\n",
            "[0.00225238 0.49490727 0.50056222 0.00227812]\n",
            "Cost after step  8000:  0.0002600\n",
            "Current rotation angles: [ 1.56565414 -3.0255521 ]\n",
            "[0.00168993 0.50088115 0.49575628 0.00167264]\n",
            "Cost after step 10000:  0.0004560\n",
            "Current rotation angles: [ 1.57170936 -3.03826152]\n",
            "[0.00133226 0.49821122 0.49912182 0.0013347 ]\n",
            "Cost after step 12000:  0.0000900\n",
            "Current rotation angles: [ 1.57289338 -3.0482056 ]\n",
            "[0.00108707 0.49786441 0.49995689 0.00109164]\n",
            "Cost after step 14000:  0.0000700\n",
            "Current rotation angles: [ 1.56914996 -3.05549692]\n",
            "[0.00092751 0.49989567 0.49825235 0.00092446]\n",
            "Cost after step 16000:  0.0001260\n",
            "Current rotation angles: [ 1.57363952 -3.06079418]\n",
            "[0.00081329 0.49776512 0.50060367 0.00081792]\n",
            "Cost after step 18000:  0.0001280\n",
            "Current rotation angles: [ 1.56534204 -3.06509938]\n",
            "[0.00073503 0.5019921  0.49654581 0.00072706]\n",
            "Cost after step 20000:  0.0000260\n",
            "Current rotation angles: [ 1.56723502 -3.06868904]\n",
            "[0.00066644 0.50111421 0.49755764 0.00066171]\n",
            "Cost after step 22000:  0.0001280\n",
            "Current rotation angles: [ 1.5691962 -3.071881 ]\n",
            "[0.00060819 0.50019187 0.49859369 0.00060625]\n",
            "Cost after step 24000:  0.0004500\n",
            "Current rotation angles: [ 1.56675272 -3.07495862]\n",
            "[0.00055705 0.50146475 0.49742564 0.00055256]\n",
            "Cost after step 26000:  0.0000140\n",
            "Current rotation angles: [ 1.57235868 -3.07816332]\n",
            "[0.00050196 0.49871687 0.50027765 0.00050353]\n",
            "Cost after step 28000:  0.0000260\n",
            "Current rotation angles: [ 1.5765636  -3.08036874]\n",
            "[4.65698237e-04 4.96650681e-01 5.02412520e-01 4.71100984e-04]\n",
            "Cost after step 30000:  0.0000420\n",
            "Current rotation angles: [ 1.57632534 -3.08232622]\n",
            "[4.36508399e-04 4.96798999e-01 5.02323130e-01 4.41362132e-04]\n",
            "Cost after step 32000:  0.0004540\n",
            "Current rotation angles: [ 1.57484526 -3.08375024]\n",
            "[4.16408650e-04 4.97559130e-01 5.01604667e-01 4.19794370e-04]\n",
            "Cost after step 34000:  0.0000980\n",
            "Current rotation angles: [ 1.5744842  -3.08653378]\n",
            "[3.77442119e-04 4.97778625e-01 5.01463696e-01 3.80236335e-04]\n",
            "Cost after step 36000:  0.0012020\n",
            "Current rotation angles: [ 1.57591374 -3.08811266]\n",
            "[3.55599410e-04 4.97085705e-01 5.02199438e-01 3.59257613e-04]\n",
            "Cost after step 38000:  0.0002420\n",
            "Current rotation angles: [ 1.5710598  -3.09001146]\n",
            "[3.32416104e-04 4.99535847e-01 4.99799145e-01 3.32591315e-04]\n",
            "Cost after step 40000:  0.0000860\n",
            "Current rotation angles: [ 1.5722715  -3.09159226]\n",
            "[3.11978916e-04 4.98950435e-01 5.00424686e-01 3.12900722e-04]\n",
            "Optimized rotation angles: [ 1.5722715  -3.09159226]\n"
          ],
          "name": "stdout"
        }
      ]
    },
    {
      "cell_type": "code",
      "metadata": {
        "id": "w_FcxG4p3idZ",
        "outputId": "cdc5c478-221a-40fe-e77e-f1f8a16aa22d",
        "colab": {
          "base_uri": "https://localhost:8080/",
          "height": 34
        }
      },
      "source": [
        "params1000 = params\n",
        "\n",
        "dev.shots = 10**6\n",
        "np.random.seed(0)\n",
        "circuit(params1000)"
      ],
      "execution_count": 224,
      "outputs": [
        {
          "output_type": "execute_result",
          "data": {
            "text/plain": [
              "array([3.00000e-04, 4.98178e-01, 5.01183e-01, 3.39000e-04])"
            ]
          },
          "metadata": {
            "tags": []
          },
          "execution_count": 224
        }
      ]
    },
    {
      "cell_type": "code",
      "metadata": {
        "id": "sHVu6iCp3p8e",
        "outputId": "5a466808-5b02-4f6e-9d17-abc3e5c30647",
        "colab": {
          "base_uri": "https://localhost:8080/",
          "height": 34
        }
      },
      "source": [
        "circuit2(params1000)"
      ],
      "execution_count": 225,
      "outputs": [
        {
          "output_type": "execute_result",
          "data": {
            "text/plain": [
              "array([3.11978916e-04, 4.98950435e-01, 5.00424686e-01, 3.12900722e-04])"
            ]
          },
          "metadata": {
            "tags": []
          },
          "execution_count": 225
        }
      ]
    },
    {
      "cell_type": "code",
      "metadata": {
        "id": "QiAPKfuh3v1c",
        "outputId": "7896dddc-eb35-423e-913b-a469a157abae",
        "colab": {
          "base_uri": "https://localhost:8080/",
          "height": 34
        }
      },
      "source": [
        "dev2.state"
      ],
      "execution_count": 227,
      "outputs": [
        {
          "output_type": "execute_result",
          "data": {
            "text/plain": [
              "array([ 0.01766292+0.j, -0.70636424+0.j, -0.70740702+0.j,  0.017689  +0.j])"
            ]
          },
          "metadata": {
            "tags": []
          },
          "execution_count": 227
        }
      ]
    },
    {
      "cell_type": "markdown",
      "metadata": {
        "id": "RTivN_EICymD"
      },
      "source": [
        "The results are very good and the 01 and 10 probabilities seem to stably hover around 0.5 during the end stages of optimization."
      ]
    },
    {
      "cell_type": "markdown",
      "metadata": {
        "id": "7neo3_aN7ytO"
      },
      "source": [
        "We now come back to the 10 samples per iteration instance. We decrease the stepsize to 0.01 (from 0.02 prior) so the updates are less noisy and use a large number of iterations for convergence."
      ]
    },
    {
      "cell_type": "code",
      "metadata": {
        "id": "gS4UZN-p6SE_",
        "outputId": "6acc9cc7-e814-4a8f-f1fd-380f8a64094f",
        "colab": {
          "base_uri": "https://localhost:8080/",
          "height": 1000
        }
      },
      "source": [
        "# initialise the optimizer with stepsize\n",
        "opt = qml.GradientDescentOptimizer(0.01)\n",
        "\n",
        "# set the number of samples\n",
        "dev.shots = 10\n",
        "\n",
        "# set the number of steps\n",
        "steps = 60000\n",
        "\n",
        "# set seed for reproducibility \n",
        "np.random.seed(0)\n",
        "\n",
        "# initialize the parameter to [0,0]\n",
        "init_params = np.array([0,0])\n",
        "params = init_params\n",
        "\n",
        "for i in range(steps):\n",
        "# update the circuit parameters after each step relative to cost & params\n",
        "  params = opt.step(cost, params)\n",
        " \n",
        "  if (i+1) % 3000 == 0:\n",
        "    print(\"Cost after step {:5d}: {: .7f}\".format(i + 1, cost(params)))\n",
        "    print(\"Current rotation angles: {}\".format(params))\n",
        "    print(circuit2(params))\n",
        "\n",
        "print(\"Optimized rotation angles: {}\".format(params))"
      ],
      "execution_count": 229,
      "outputs": [
        {
          "output_type": "stream",
          "text": [
            "Cost after step  3000:  0.0800000\n",
            "Current rotation angles: [-1.5399  2.8279]\n",
            "[0.01257672 0.50286899 0.47273132 0.01182298]\n",
            "Cost after step  6000:  0.0200000\n",
            "Current rotation angles: [-1.5968  2.9604]\n",
            "[0.00398622 0.48301341 0.50880133 0.00419904]\n",
            "Cost after step  9000:  0.1800000\n",
            "Current rotation angles: [-1.5723  3.025 ]\n",
            "[0.00169475 0.49755341 0.49905198 0.00169986]\n",
            "Cost after step 12000:  0.0200000\n",
            "Current rotation angles: [-1.5233  3.0397]\n",
            "[0.0013582  0.52238103 0.47502569 0.00123508]\n",
            "Cost after step 15000:  0.0200000\n",
            "Current rotation angles: [-1.5621  3.0127]\n",
            "[0.00209183 0.50225628 0.49359613 0.00205576]\n",
            "Cost after step 18000:  0.0200000\n",
            "Current rotation angles: [-1.5331  3.0397]\n",
            "[0.00134551 0.51749819 0.47990853 0.00124777]\n",
            "Cost after step 21000:  0.0200000\n",
            "Current rotation angles: [-1.5605  3.0117]\n",
            "[0.00212773 0.50302034 0.49276756 0.00208436]\n",
            "Cost after step 24000:  0.0000000\n",
            "Current rotation angles: [-1.5955  3.0484]\n",
            "[0.00105803 0.48659139 0.51123896 0.00111162]\n",
            "Cost after step 27000:  0.0800000\n",
            "Current rotation angles: [-1.5757  3.0527]\n",
            "[0.00098225 0.49656593 0.5014599  0.00099193]\n",
            "Cost after step 30000:  0.0000000\n",
            "Current rotation angles: [-1.5517  3.0593]\n",
            "[0.00086219 0.5086854  0.48962254 0.00082988]\n",
            "Cost after step 33000:  0.0200000\n",
            "Current rotation angles: [-1.5899  3.0872]\n",
            "[3.62666176e-04 4.90086078e-01 5.09174464e-01 3.76791678e-04]\n",
            "Cost after step 36000:  0.0800000\n",
            "Current rotation angles: [-1.5476  3.0374]\n",
            "[0.00138723 0.51020989 0.48707854 0.00132434]\n",
            "Cost after step 39000:  0.0200000\n",
            "Current rotation angles: [-1.5894  3.0377]\n",
            "[0.00132292 0.48937578 0.50792823 0.00137307]\n",
            "Cost after step 42000:  0.0000000\n",
            "Current rotation angles: [-1.6015  3.0578]\n",
            "[0.00085021 0.48380036 0.51444536 0.00090406]\n",
            "Cost after step 45000:  0.3200000\n",
            "Current rotation angles: [-1.5298  3.1079]\n",
            "[1.47701113e-04 5.20344721e-01 4.79371507e-01 1.36070767e-04]\n",
            "Cost after step 48000:  0.0200000\n",
            "Current rotation angles: [-1.6105  3.1225]\n",
            "[4.37561791e-05 4.80109622e-01 5.19799248e-01 4.73734079e-05]\n",
            "Cost after step 51000:  0.0800000\n",
            "Current rotation angles: [-1.6     3.1026]\n",
            "[1.84480535e-04 4.85215758e-01 5.14404183e-01 1.95578065e-04]\n",
            "Cost after step 54000:  0.0200000\n",
            "Current rotation angles: [-1.6047  3.1058]\n",
            "[1.54694471e-04 4.82896716e-01 5.16783039e-01 1.65549850e-04]\n",
            "Cost after step 57000:  0.0800000\n",
            "Current rotation angles: [-1.5653  3.1067]\n",
            "[1.53008101e-04 5.02595141e-01 4.97100515e-01 1.51335338e-04]\n",
            "Cost after step 60000:  0.0200000\n",
            "Current rotation angles: [-1.5436  3.0821]\n",
            "[4.54318724e-04 5.13142168e-01 4.85973249e-01 4.30264281e-04]\n",
            "Optimized rotation angles: [-1.5436  3.0821]\n"
          ],
          "name": "stdout"
        }
      ]
    },
    {
      "cell_type": "markdown",
      "metadata": {
        "id": "r5D8Uu9983bg"
      },
      "source": [
        "Even with the smaller stepsize there is quite a lot of noise in measuring the 01 and 10 probabilities. "
      ]
    },
    {
      "cell_type": "code",
      "metadata": {
        "id": "oDpkJZu_60em",
        "outputId": "5b114669-a0ea-4382-888f-896448e2b272",
        "colab": {
          "base_uri": "https://localhost:8080/",
          "height": 34
        }
      },
      "source": [
        "params10new = params\n",
        "\n",
        "dev.shots = 10**6\n",
        "np.random.seed(0)\n",
        "circuit(params10new)"
      ],
      "execution_count": 230,
      "outputs": [
        {
          "output_type": "execute_result",
          "data": {
            "text/plain": [
              "array([4.44000e-04, 5.12312e-01, 4.86789e-01, 4.55000e-04])"
            ]
          },
          "metadata": {
            "tags": []
          },
          "execution_count": 230
        }
      ]
    },
    {
      "cell_type": "code",
      "metadata": {
        "id": "fQvW-96M82jz",
        "outputId": "f0e60df5-5247-4079-9c8e-7bc600815c85",
        "colab": {
          "base_uri": "https://localhost:8080/",
          "height": 34
        }
      },
      "source": [
        "circuit2(params10new)"
      ],
      "execution_count": 232,
      "outputs": [
        {
          "output_type": "execute_result",
          "data": {
            "text/plain": [
              "array([4.54318724e-04, 5.13142168e-01, 4.85973249e-01, 4.30264281e-04])"
            ]
          },
          "metadata": {
            "tags": []
          },
          "execution_count": 232
        }
      ]
    },
    {
      "cell_type": "code",
      "metadata": {
        "id": "U4K5xRgs7xTt",
        "outputId": "a5f39296-46b1-4c68-d8e7-d3b0050ee597",
        "colab": {
          "base_uri": "https://localhost:8080/",
          "height": 34
        }
      },
      "source": [
        "dev2.state"
      ],
      "execution_count": 233,
      "outputs": [
        {
          "output_type": "execute_result",
          "data": {
            "text/plain": [
              "array([ 0.02131475+0.j,  0.71633942+0.j, -0.69711782+0.j, -0.02074281+0.j])"
            ]
          },
          "metadata": {
            "tags": []
          },
          "execution_count": 233
        }
      ]
    },
    {
      "cell_type": "code",
      "metadata": {
        "id": "UJWU9Lqh913h",
        "outputId": "c8378da1-542f-42fc-a2e7-b41441c2984b",
        "colab": {
          "base_uri": "https://localhost:8080/",
          "height": 34
        }
      },
      "source": [
        "cost(params10)"
      ],
      "execution_count": 234,
      "outputs": [
        {
          "output_type": "execute_result",
          "data": {
            "text/plain": [
              "0.0004958784579999998"
            ]
          },
          "metadata": {
            "tags": []
          },
          "execution_count": 234
        }
      ]
    },
    {
      "cell_type": "code",
      "metadata": {
        "id": "CZzSz-6F94v6",
        "outputId": "5090727b-21d4-4bc4-f4d5-df08d046975a",
        "colab": {
          "base_uri": "https://localhost:8080/",
          "height": 34
        }
      },
      "source": [
        "cost(params10new)"
      ],
      "execution_count": 235,
      "outputs": [
        {
          "output_type": "execute_result",
          "data": {
            "text/plain": [
              "0.0003902014940000004"
            ]
          },
          "metadata": {
            "tags": []
          },
          "execution_count": 235
        }
      ]
    },
    {
      "cell_type": "markdown",
      "metadata": {
        "id": "M_PkeICz-XJ3"
      },
      "source": [
        "A marginally smaller cost for 30 times more iterations! To further reduce noise we would need to decrease stepsize even more resulting in more iterations (or find a robust stepsize update schedule)."
      ]
    },
    {
      "cell_type": "markdown",
      "metadata": {
        "id": "64J5koizumMu"
      },
      "source": [
        "Finally now we return to the one sample per iteration instance to see how many steps it will take using a fixed stepsize. We will need a much smaller stepsize as mentioned earlier due to the lower bound of the cost function. We use the same stepsize as at the end of prior attempt with the one sample optimization procedure."
      ]
    },
    {
      "cell_type": "code",
      "metadata": {
        "id": "VBy4FXbJsUuc",
        "outputId": "8079e0e9-fb5f-4f97-836a-2e7f338030a1",
        "colab": {
          "base_uri": "https://localhost:8080/",
          "height": 1000
        }
      },
      "source": [
        "# initialise the optimizer with stepsize\n",
        "opt = qml.GradientDescentOptimizer(0.001)\n",
        "\n",
        "# set the number of samples\n",
        "dev.shots = 1\n",
        "\n",
        "# set the number of steps\n",
        "steps = 80000\n",
        "steps_1 = 80000\n",
        "\n",
        "# set seed for reproducibility \n",
        "np.random.seed(0)\n",
        "\n",
        "# initialize the parameter to [0,0]\n",
        "init_params = np.array([0,0])\n",
        "params = init_params\n",
        "\n",
        "for i in range(steps):\n",
        "# update the circuit parameters after each step relative to cost & params\n",
        "  params = opt.step(cost, params)\n",
        "\n",
        "  if (i+1) % 4000 == 0:\n",
        "    print(\"Cost after step {:5d}: {: .7f}\".format(i + 1, cost(params)))\n",
        "    print(\"Current rotation angles: {}\".format(params))\n",
        "    print(circuit2(params))\n",
        "\n",
        "print(\"Optimized rotation angles: {}\".format(params))"
      ],
      "execution_count": 215,
      "outputs": [
        {
          "output_type": "stream",
          "text": [
            "Cost after step  4000:  1.5000000\n",
            "Current rotation angles: [ 0.507 -1.573]\n",
            "[0.46751874 0.46958381 0.03151803 0.03137942]\n",
            "Cost after step  8000:  0.5000000\n",
            "Current rotation angles: [ 1.448 -2.373]\n",
            "[0.07888574 0.48235823 0.3770866  0.06166943]\n",
            "Cost after step 12000:  0.5000000\n",
            "Current rotation angles: [ 1.5685 -2.6465]\n",
            "[0.03008776 0.4710604  0.46890194 0.02994989]\n",
            "Cost after step 16000:  0.5000000\n",
            "Current rotation angles: [ 1.568  -2.7445]\n",
            "[0.01950708 0.48189108 0.47920355 0.01939829]\n",
            "Cost after step 20000:  0.5000000\n",
            "Current rotation angles: [ 1.553  -2.7425]\n",
            "[0.01999613 0.48890156 0.47180541 0.01929689]\n",
            "Cost after step 24000:  0.5000000\n",
            "Current rotation angles: [ 1.573 -2.776]\n",
            "[0.01648558 0.48241259 0.48454344 0.0165584 ]\n",
            "Cost after step 28000:  0.5000000\n",
            "Current rotation angles: [ 1.577 -2.839]\n",
            "[0.01128776 0.48561042 0.49167313 0.01142869]\n",
            "Cost after step 32000:  0.5000000\n",
            "Current rotation angles: [ 1.576  -2.8945]\n",
            "[0.00755358 0.48984459 0.49496922 0.00763261]\n",
            "Cost after step 36000:  0.5000000\n",
            "Current rotation angles: [ 1.519  -2.9105]\n",
            "[0.0069899  0.51889669 0.46781167 0.00630175]\n",
            "Cost after step 40000:  0.5000000\n",
            "Current rotation angles: [ 1.521 -2.909]\n",
            "[0.00706708 0.5178208  0.46871523 0.0063969 ]\n",
            "Cost after step 44000:  0.5000000\n",
            "Current rotation angles: [ 1.5955 -2.9155]\n",
            "[0.0062054  0.48144402 0.50583085 0.00651973]\n",
            "Cost after step 48000:  0.5000000\n",
            "Current rotation angles: [ 1.575  -2.9595]\n",
            "[0.0041159  0.49378227 0.49795118 0.00415065]\n",
            "Cost after step 52000:  0.5000000\n",
            "Current rotation angles: [ 1.5715 -3.0175]\n",
            "[0.00192105 0.49772711 0.49842808 0.00192376]\n",
            "Cost after step 56000:  0.5000000\n",
            "Current rotation angles: [ 1.577  -3.0185]\n",
            "[0.00187985 0.49501833 0.5011985  0.00190332]\n",
            "Cost after step 60000:  0.5000000\n",
            "Current rotation angles: [ 1.5775 -2.9935]\n",
            "[0.00271808 0.49393011 0.50059704 0.00275477]\n",
            "Cost after step 64000:  0.5000000\n",
            "Current rotation angles: [ 1.6105 -2.9855]\n",
            "[0.00291879 0.47723459 0.51668654 0.00316008]\n",
            "Cost after step 68000:  0.5000000\n",
            "Current rotation angles: [ 1.5605 -2.9155]\n",
            "[0.00642807 0.49872    0.48855487 0.00629705]\n",
            "Cost after step 72000:  0.5000000\n",
            "Current rotation angles: [ 1.5605 -2.9635]\n",
            "[0.00399487 0.5011532  0.49093848 0.00391344]\n",
            "Cost after step 76000:  0.5000000\n",
            "Current rotation angles: [ 1.598  -2.9855]\n",
            "[0.00295676 0.48344308 0.51047805 0.00312211]\n",
            "Cost after step 80000:  0.5000000\n",
            "Current rotation angles: [ 1.574  -2.9895]\n",
            "[0.00287671 0.49552146 0.49870664 0.0028952 ]\n",
            "Optimized rotation angles: [ 1.574  -2.9895]\n"
          ],
          "name": "stdout"
        }
      ]
    },
    {
      "cell_type": "code",
      "metadata": {
        "id": "uOTcWpgwxA-x",
        "outputId": "e6d79f54-ca81-4be1-d212-571ac5251e13",
        "colab": {
          "base_uri": "https://localhost:8080/",
          "height": 34
        }
      },
      "source": [
        "params1new = params\n",
        "\n",
        "dev.shots = 10**6\n",
        "np.random.seed(0)\n",
        "circuit(params1new)"
      ],
      "execution_count": 217,
      "outputs": [
        {
          "output_type": "execute_result",
          "data": {
            "text/plain": [
              "array([0.002858, 0.494789, 0.49943 , 0.002923])"
            ]
          },
          "metadata": {
            "tags": []
          },
          "execution_count": 217
        }
      ]
    },
    {
      "cell_type": "code",
      "metadata": {
        "id": "KTKE0meC08IK",
        "outputId": "d71208b8-e7f1-4a8e-cf94-035a5daf6f0f",
        "colab": {
          "base_uri": "https://localhost:8080/",
          "height": 34
        }
      },
      "source": [
        "circuit2(params1new)"
      ],
      "execution_count": 219,
      "outputs": [
        {
          "output_type": "execute_result",
          "data": {
            "text/plain": [
              "array([0.00287671, 0.49552146, 0.49870664, 0.0028952 ])"
            ]
          },
          "metadata": {
            "tags": []
          },
          "execution_count": 219
        }
      ]
    },
    {
      "cell_type": "code",
      "metadata": {
        "id": "BN01Hpxi08Zp",
        "outputId": "dcc89abc-4a56-464c-97ae-0798d7dcaef1",
        "colab": {
          "base_uri": "https://localhost:8080/",
          "height": 34
        }
      },
      "source": [
        "dev2.state"
      ],
      "execution_count": 220,
      "outputs": [
        {
          "output_type": "execute_result",
          "data": {
            "text/plain": [
              "array([ 0.05363494+0.j, -0.70393285+0.j, -0.70619164+0.j,  0.05380704+0.j])"
            ]
          },
          "metadata": {
            "tags": []
          },
          "execution_count": 220
        }
      ]
    },
    {
      "cell_type": "code",
      "metadata": {
        "id": "YoTHauP01dCw",
        "outputId": "d9b96ec4-4679-42f7-d6cf-0ecd630e0353",
        "colab": {
          "base_uri": "https://localhost:8080/",
          "height": 34
        }
      },
      "source": [
        "cost(params1)"
      ],
      "execution_count": 221,
      "outputs": [
        {
          "output_type": "execute_result",
          "data": {
            "text/plain": [
              "3.275641800000037e-05"
            ]
          },
          "metadata": {
            "tags": []
          },
          "execution_count": 221
        }
      ]
    },
    {
      "cell_type": "code",
      "metadata": {
        "id": "ZD882x3Z1dU5",
        "outputId": "873f717b-1eeb-4dcb-fdd5-f669f5d7abe1",
        "colab": {
          "base_uri": "https://localhost:8080/",
          "height": 34
        }
      },
      "source": [
        "cost(params1new)"
      ],
      "execution_count": 222,
      "outputs": [
        {
          "output_type": "execute_result",
          "data": {
            "text/plain": [
              "3.664441400000012e-05"
            ]
          },
          "metadata": {
            "tags": []
          },
          "execution_count": 222
        }
      ]
    },
    {
      "cell_type": "markdown",
      "metadata": {
        "id": "uQaAbCtZxegX"
      },
      "source": [
        "While a valuable learning experience it's unclear if this is an improvement over our prior attempt with updates to the stepsize (with a slightly larger cost!) It takes over 30000 iterations for the 00 and 11 states to fall below 0.01 probability in the theoretical circuit with the learned parameters and with more iterations we should except both to continue to converge to zero. However the stepsize makes the 01 and 10 probabilities noisy and so many more iterations and an even smaller step size would be required (for more stable 01 and 10 probabilities and to drive 00 and 11 probabilities to zero).\n",
        "\n",
        "Ultimately in this case it appears a variable decreasing stepsize is preferable."
      ]
    },
    {
      "cell_type": "markdown",
      "metadata": {
        "id": "iyY_wJq0tOVL"
      },
      "source": [
        "Now summarize succintly the information when using a single stepsize through optimization for each of the various samples."
      ]
    },
    {
      "cell_type": "code",
      "metadata": {
        "id": "QSCpUfd-46PG",
        "outputId": "f3a75dd3-dbf8-4887-fd07-d411908387ae",
        "colab": {
          "base_uri": "https://localhost:8080/",
          "height": 84
        }
      },
      "source": [
        "dev.shots = 10**6\n",
        "np.random.seed(0)\n",
        "\n",
        "stepsize_1 = 0.001\n",
        "steps_1 = 80000\n",
        "print(cost(params1new))\n",
        "\n",
        "stepsize_10 = 0.01\n",
        "steps_10 = 60000\n",
        "print(cost(params10new))\n",
        "\n",
        "stepsize_100 = 0.015\n",
        "steps_100 = 50000\n",
        "print(cost(params100))\n",
        "\n",
        "stepsize_1000 = 0.02\n",
        "steps_1000 = 40000\n",
        "print(cost(params1000))"
      ],
      "execution_count": 262,
      "outputs": [
        {
          "output_type": "stream",
          "text": [
            "4.419151400000023e-05\n",
            "0.0003428115199999988\n",
            "7.846465999999965e-06\n",
            "9.2729400000006e-07\n"
          ],
          "name": "stdout"
        }
      ]
    },
    {
      "cell_type": "markdown",
      "metadata": {
        "id": "ZHnswIk2FhCc"
      },
      "source": [
        "The pattern emerges that as our samples per iteration increase, we can increase the stepsize and lower the iterations with better results. \n",
        "\n",
        "The exception is due to the noise in measurements in the 10 samples per iteration instance preventing an improvement from the one sample per iteration case. We make one more attempt with stepsize 0.005 and 70,000 steps for 10 samples per iteration to see if there is an improvement."
      ]
    },
    {
      "cell_type": "code",
      "metadata": {
        "id": "cIBtpXduFUue",
        "outputId": "712ebcc0-9ad7-4c98-fbf6-317a269248e5",
        "colab": {
          "base_uri": "https://localhost:8080/",
          "height": 1000
        }
      },
      "source": [
        "# initialise the optimizer with stepsize\n",
        "opt = qml.GradientDescentOptimizer(0.005)\n",
        "\n",
        "# set the number of samples\n",
        "dev.shots = 10\n",
        "\n",
        "# set the number of steps\n",
        "steps = 70000\n",
        "\n",
        "# set seed for reproducibility \n",
        "np.random.seed(0)\n",
        "\n",
        "# initialize the parameter to [0,0]\n",
        "init_params = np.array([0,0])\n",
        "params = init_params\n",
        "\n",
        "for i in range(steps):\n",
        "# update the circuit parameters after each step relative to cost & params\n",
        "  params = opt.step(cost, params)\n",
        "\n",
        "  if (i+1) % 3500 == 0:\n",
        "    print(\"Cost after step {:5d}: {: .7f}\".format(i + 1, cost(params)))\n",
        "    print(\"Current rotation angles: {}\".format(params))\n",
        "    print(circuit2(params))\n",
        "\n",
        "print(\"Optimized rotation angles: {}\".format(params))"
      ],
      "execution_count": 250,
      "outputs": [
        {
          "output_type": "stream",
          "text": [
            "Cost after step  3500:  0.0600000\n",
            "Current rotation angles: [-1.5556  -2.67985]\n",
            "[0.02657846 0.48101941 0.46661934 0.02578279]\n",
            "Cost after step  7000:  0.0200000\n",
            "Current rotation angles: [-1.57125 -2.8677 ]\n",
            "[0.00931445 0.49045872 0.49090393 0.0093229 ]\n",
            "Cost after step 10500:  0.0200000\n",
            "Current rotation angles: [-1.55285 -2.9168 ]\n",
            "[0.00640279 0.50256989 0.48485028 0.00617704]\n",
            "Cost after step 14000:  0.0800000\n",
            "Current rotation angles: [-1.62525 -2.95895]\n",
            "[0.0039319  0.46885472 0.52282885 0.00438453]\n",
            "Cost after step 17500:  0.0200000\n",
            "Current rotation angles: [-1.5894 -3.0062]\n",
            "[0.00224534 0.48845336 0.50697084 0.00233046]\n",
            "Cost after step 21000:  0.0000000\n",
            "Current rotation angles: [-1.5715  -3.00155]\n",
            "[0.00244577 0.4972024  0.49790263 0.00244921]\n",
            "Cost after step 24500:  0.0200000\n",
            "Current rotation angles: [-1.55055 -3.01495]\n",
            "[0.00204265 0.50807982 0.48791594 0.00196158]\n",
            "Cost after step 28000:  0.0200000\n",
            "Current rotation angles: [-1.5665 -3.0368]\n",
            "[0.00137732 0.50077083 0.4964863  0.00136554]\n",
            "Cost after step 31500:  0.0800000\n",
            "Current rotation angles: [-1.59865 -3.0367 ]\n",
            "[0.00133578 0.48473918 0.51251272 0.00141232]\n",
            "Cost after step 35000:  0.0200000\n",
            "Current rotation angles: [-1.5895 -3.0402]\n",
            "[0.00125994 0.48938876 0.50804332 0.00130797]\n",
            "Cost after step 38500:  0.1800000\n",
            "Current rotation angles: [-1.56935 -3.04455]\n",
            "[0.00117794 0.49954523 0.4981023  0.00117453]\n",
            "Cost after step 42000:  0.0200000\n",
            "Current rotation angles: [-1.5725 -3.0488]\n",
            "[0.00107371 0.49807446 0.49977447 0.00107737]\n",
            "Cost after step 45500:  0.0800000\n",
            "Current rotation angles: [-1.5806  -3.02335]\n",
            "[0.00172852 0.49336972 0.50313901 0.00176274]\n",
            "Cost after step 49000:  0.0800000\n",
            "Current rotation angles: [-1.57315 -3.0126 ]\n",
            "[0.00207212 0.49675105 0.49909494 0.00208189]\n",
            "Cost after step 52500:  0.0000000\n",
            "Current rotation angles: [-1.57725 -3.03145]\n",
            "[0.00150512 0.49526807 0.50170214 0.00152467]\n",
            "Cost after step 56000:  0.0800000\n",
            "Current rotation angles: [-1.57415 -3.0579 ]\n",
            "[0.00087211 0.49745105 0.50079885 0.00087798]\n",
            "Cost after step 59500:  0.1800000\n",
            "Current rotation angles: [-1.5903  -3.07705]\n",
            "[0.00051039 0.48973839 0.50922053 0.00053069]\n",
            "Cost after step 63000:  0.0000000\n",
            "Current rotation angles: [-1.57335 -3.07995]\n",
            "[4.73614159e-04 4.98249551e-01 5.00800796e-01 4.76039261e-04]\n",
            "Cost after step 66500:  0.0000000\n",
            "Current rotation angles: [-1.5666  -3.07025]\n",
            "[0.00063862 0.50145954 0.49726856 0.00063328]\n",
            "Cost after step 70000:  0.0800000\n",
            "Current rotation angles: [-1.56505 -3.07625]\n",
            "[0.00053658 0.50233656 0.4965964  0.00053045]\n",
            "Optimized rotation angles: [-1.56505 -3.07625]\n"
          ],
          "name": "stdout"
        }
      ]
    },
    {
      "cell_type": "code",
      "metadata": {
        "id": "Sx3UYZNKIgl-",
        "outputId": "77d942d7-c54c-4ae4-fe51-848f7f3f80cf",
        "colab": {
          "base_uri": "https://localhost:8080/",
          "height": 34
        }
      },
      "source": [
        "params10newest = params\n",
        "dev.shots = 10**6\n",
        "np.random.seed(0)\n",
        "cost(params10newest)"
      ],
      "execution_count": 254,
      "outputs": [
        {
          "output_type": "execute_result",
          "data": {
            "text/plain": [
              "9.933158000000137e-06"
            ]
          },
          "metadata": {
            "tags": []
          },
          "execution_count": 254
        }
      ]
    },
    {
      "cell_type": "markdown",
      "metadata": {
        "id": "HXEm2qk2I-SA"
      },
      "source": [
        "Fitting snuggly between our values for the cost for 1 and 100 samples as expected!"
      ]
    }
  ]
}